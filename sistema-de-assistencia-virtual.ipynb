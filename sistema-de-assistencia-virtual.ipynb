{
 "cells": [
  {
   "cell_type": "code",
   "execution_count": 6,
   "metadata": {},
   "outputs": [],
   "source": [
    "import os\n",
    "from gtts import gTTS\n",
    "import speech_recognition as sr\n",
    "import webbrowser\n",
    "import wikipedia"
   ]
  },
  {
   "cell_type": "code",
   "execution_count": null,
   "metadata": {},
   "outputs": [],
   "source": [
    "def speak(text):\n",
    "    \"\"\"Converte texto em fala usando gTTS e reproduz o áudio.\"\"\"\n",
    "    tts = gTTS(text=text, lang='pt')\n",
    "    path = r\"C:\\temp\\audio.mp3\"  \n",
    "\n",
    "    \n",
    "    if not os.path.exists(os.path.dirname(path)):\n",
    "        os.makedirs(os.path.dirname(path))  \n",
    "    \n",
    "    try:\n",
    "        tts.save(path)\n",
    "        os.system(f\"start {path}\")  \n",
    "    except PermissionError:\n",
    "        print(\"Erro de permissão ao salvar o arquivo.\")\n",
    "    except FileNotFoundError:\n",
    "        print(\"Erro: O diretório para salvar o arquivo não existe.\")\n",
    "\n"
   ]
  },
  {
   "cell_type": "code",
   "execution_count": 8,
   "metadata": {},
   "outputs": [],
   "source": [
    "def recognize_speech():\n",
    "    \"\"\"Captura áudio do microfone e converte para texto.\"\"\"\n",
    "    recognizer = sr.Recognizer()\n",
    "    with sr.Microphone() as source:\n",
    "        print(\"Fale algo...\")\n",
    "        recognizer.adjust_for_ambient_noise(source)\n",
    "        audio = recognizer.listen(source)\n",
    "    try:\n",
    "        text = recognizer.recognize_google(audio, language='pt-BR')\n",
    "        print(f\"Você disse: {text}\")\n",
    "        return text.lower()\n",
    "    except sr.UnknownValueError:\n",
    "        print(\"Não entendi o que você disse.\")\n",
    "        return \"\"\n",
    "    except sr.RequestError:\n",
    "        print(\"Erro ao conectar ao serviço de reconhecimento de fala.\")\n",
    "        return \"\""
   ]
  },
  {
   "cell_type": "code",
   "execution_count": 9,
   "metadata": {},
   "outputs": [],
   "source": [
    "def process_command(command):\n",
    "    \"\"\"Executa funções com base no comando de voz.\"\"\"\n",
    "    if \"wikipedia\" in command:\n",
    "        topic = command.replace(\"wikipedia\", \"\").strip()\n",
    "        speak(f\"Buscando por {topic} na Wikipedia.\")\n",
    "        try:\n",
    "            summary = wikipedia.summary(topic, sentences=2, lang='pt')\n",
    "            print(summary)\n",
    "            speak(summary)\n",
    "        except wikipedia.exceptions.DisambiguationError:\n",
    "            speak(\"Encontrei múltiplas opções, seja mais específico.\")\n",
    "        except wikipedia.exceptions.PageError:\n",
    "            speak(\"Não encontrei informações sobre isso.\")\n",
    "    elif \"youtube\" in command:\n",
    "        speak(\"Abrindo o YouTube.\")\n",
    "        webbrowser.open(\"https://www.youtube.com\")\n",
    "    elif \"farmácia\" in command:\n",
    "        speak(\"Buscando farmácias próximas.\")\n",
    "        webbrowser.open(\"https://www.google.com/maps/search/farmácia+\")\n",
    "    else:\n",
    "        speak(\"Comando não reconhecido.\")\n"
   ]
  },
  {
   "cell_type": "code",
   "execution_count": 10,
   "metadata": {},
   "outputs": [
    {
     "name": "stdout",
     "output_type": "stream",
     "text": [
      "Fale algo...\n",
      "Você disse: farmácia\n",
      "Erro de permissão ao salvar o arquivo.\n"
     ]
    }
   ],
   "source": [
    "if __name__ == \"__main__\":\n",
    "    speak(\"Olá, eu sou seu assistente virtual. Pode falar agora.\")\n",
    "    command = recognize_speech()\n",
    "    if command:\n",
    "        process_command(command)"
   ]
  }
 ],
 "metadata": {
  "kernelspec": {
   "display_name": "Python 3",
   "language": "python",
   "name": "python3"
  },
  "language_info": {
   "codemirror_mode": {
    "name": "ipython",
    "version": 3
   },
   "file_extension": ".py",
   "mimetype": "text/x-python",
   "name": "python",
   "nbconvert_exporter": "python",
   "pygments_lexer": "ipython3",
   "version": "3.12.8"
  }
 },
 "nbformat": 4,
 "nbformat_minor": 2
}
